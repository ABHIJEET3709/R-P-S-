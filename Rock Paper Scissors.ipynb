{
 "cells": [
  {
   "cell_type": "code",
   "execution_count": null,
   "id": "053801da-d7d8-4718-b897-f3fe49dc8aa9",
   "metadata": {},
   "outputs": [],
   "source": []
  },
  {
   "cell_type": "code",
   "execution_count": 36,
   "id": "7c8ac7f6-5c88-4473-a586-62ed268fe6e5",
   "metadata": {},
   "outputs": [
    {
     "name": "stdin",
     "output_type": "stream",
     "text": [
      "enter a choice(rock, paper, scissors):  rock\n"
     ]
    },
    {
     "name": "stdout",
     "output_type": "stream",
     "text": [
      "player: rock\n",
      "computer:rock\n",
      "it's a tie!\n"
     ]
    },
    {
     "name": "stdin",
     "output_type": "stream",
     "text": [
      "play again?(y/n):  y\n",
      "enter a choice(rock, paper, scissors):  rock\n"
     ]
    },
    {
     "name": "stdout",
     "output_type": "stream",
     "text": [
      "player: rock\n",
      "computer:paper\n",
      "you lose!\n"
     ]
    },
    {
     "name": "stdin",
     "output_type": "stream",
     "text": [
      "play again?(y/n):  y\n",
      "enter a choice(rock, paper, scissors):  paper\n"
     ]
    },
    {
     "name": "stdout",
     "output_type": "stream",
     "text": [
      "player: paper\n",
      "computer:paper\n",
      "it's a tie!\n"
     ]
    },
    {
     "name": "stdin",
     "output_type": "stream",
     "text": [
      "play again?(y/n):  y\n",
      "enter a choice(rock, paper, scissors):  scissors\n"
     ]
    },
    {
     "name": "stdout",
     "output_type": "stream",
     "text": [
      "player: scissors\n",
      "computer:paper\n",
      "you win!\n"
     ]
    },
    {
     "name": "stdin",
     "output_type": "stream",
     "text": [
      "play again?(y/n):  n\n"
     ]
    },
    {
     "name": "stdout",
     "output_type": "stream",
     "text": [
      "thanks for playing!\n"
     ]
    }
   ],
   "source": [
    "import random\n",
    "\n",
    "options = (\"rock\", \"paper\", \"scissors\")\n",
    "running = True\n",
    "\n",
    "while running:\n",
    "\n",
    "        player = None\n",
    "        computer = random.choice(options)\n",
    "    \n",
    "        while player not in option:\n",
    "          player = input(\"enter a choice(rock, paper, scissors): \")\n",
    "        \n",
    "        print(f\"player: {player}\")\n",
    "        print(f\"computer:{computer}\")\n",
    "        \n",
    "        if player == computer:\n",
    "            print(\"it's a tie!\")\n",
    "        elif player == \"rock\" and computer == \"scissors\":\n",
    "            print(\"you win!\")\n",
    "        elif player == \"paper\" and computer == \"rock\":\n",
    "            print(\"you win!\")\n",
    "        elif player == \"scissors\" and computer == \"paper\":\n",
    "            print(\"you win!\")\n",
    "        else:\n",
    "            print(\"you lose!\")\n",
    "    \n",
    "        if not input(\"play again?(y/n): \"). lower() == \"y\":\n",
    "          running = False\n",
    "\n",
    "print(\"thanks for playing!\")\n",
    "        "
   ]
  }
 ],
 "metadata": {
  "kernelspec": {
   "display_name": "Python 3 (ipykernel)",
   "language": "python",
   "name": "python3"
  },
  "language_info": {
   "codemirror_mode": {
    "name": "ipython",
    "version": 3
   },
   "file_extension": ".py",
   "mimetype": "text/x-python",
   "name": "python",
   "nbconvert_exporter": "python",
   "pygments_lexer": "ipython3",
   "version": "3.12.4"
  }
 },
 "nbformat": 4,
 "nbformat_minor": 5
}
